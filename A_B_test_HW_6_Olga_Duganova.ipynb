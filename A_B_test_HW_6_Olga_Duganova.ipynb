{
  "nbformat": 4,
  "nbformat_minor": 0,
  "metadata": {
    "colab": {
      "provenance": [],
      "authorship_tag": "ABX9TyNQjqtFBkTtLAd2XCrEcrPd",
      "include_colab_link": true
    },
    "kernelspec": {
      "name": "python3",
      "display_name": "Python 3"
    },
    "language_info": {
      "name": "python"
    }
  },
  "cells": [
    {
      "cell_type": "markdown",
      "metadata": {
        "id": "view-in-github",
        "colab_type": "text"
      },
      "source": [
        "<a href=\"https://colab.research.google.com/github/vfunnny2000/PythonAnalytics_and_A-B_tests/blob/A%2FB_test/A_B_test_HW_6_Olga_Duganova.ipynb\" target=\"_parent\"><img src=\"https://colab.research.google.com/assets/colab-badge.svg\" alt=\"Open In Colab\"/></a>"
      ]
    },
    {
      "cell_type": "code",
      "execution_count": 8,
      "metadata": {
        "id": "kS4d7zOIvJr0"
      },
      "outputs": [],
      "source": [
        "from statsmodels.stats.power import tt_ind_solve_power, zt_ind_solve_power\n",
        "from statsmodels.stats.proportion import proportion_effectsize\n",
        "from statsmodels.stats.meta_analysis import effectsize_smd\n",
        "from typing import Union\n",
        "import plotly.graph_objects as go\n",
        "from scipy import stats\n",
        "from math import asin\n",
        "import numpy as np"
      ]
    },
    {
      "cell_type": "markdown",
      "source": [
        "### Задача 1\n",
        "Продакт на главной mail.ru решил протестировать в рекомендательной ленте контента вместо карточек со статьями видеоплеер с короткими видео. Нынешний таймспент на юзера в день в среднем равен 25 минут, а стандартная ошибка (SD) равна 156. Мы предполагаем, что в новой версии таймспент на юзера в день изменится на 10%. Средний трафик 20000 человек в день. Посчитайте сколько дней необходимо держать эксперимент при alpha = 5% и beta = 20%."
      ],
      "metadata": {
        "id": "Nie8JAeRvbGo"
      }
    },
    {
      "cell_type": "code",
      "source": [
        "mu_control, mu_test = 25, 25 * 1.1\n",
        "std_control, std_test = 156, 156\n",
        "\n",
        "def calc_continuous_effect_size(mean_1: Union[float, int],\n",
        "                                std_1: Union[float, int],\n",
        "                                mean_2: Union[float, int],\n",
        "                                std_2: Union[float, int],\n",
        "                                nobs_1: int = 10_000,\n",
        "                                nobs_2: int = 10_000):\n",
        "    \n",
        "    es_formula = (mean_1 - mean_2) / ((std_1**2 + std_2**2) / 2) ** 0.5\n",
        "    es_import = effectsize_smd(mean_1, std_1, nobs_1, mean_2, std_2, nobs_2)[0]\n",
        "    \n",
        "    return es_formula, es_import \n",
        "\n",
        "calc_continuous_effect_size(mean_1=mu_control, std_1=std_control, mean_2=mu_test, std_2=std_test)"
      ],
      "metadata": {
        "colab": {
          "base_uri": "https://localhost:8080/"
        },
        "id": "XPW18XQovkYv",
        "outputId": "262a428f-aa24-4ca5-99ed-110afaf3da42"
      },
      "execution_count": 9,
      "outputs": [
        {
          "output_type": "execute_result",
          "data": {
            "text/plain": [
              "(-0.01602564102564105, -0.016025039996486808)"
            ]
          },
          "metadata": {},
          "execution_count": 9
        }
      ]
    },
    {
      "cell_type": "code",
      "source": [
        "effect_size = calc_continuous_effect_size(mean_1=mu_control, std_1=std_control, mean_2=mu_test, std_2=std_test)[1]\n",
        "\n",
        "def calc_sample_size_continuous(effect_size: float,\n",
        "                                alpha: float = .05,\n",
        "                                beta: float = .2,\n",
        "                                ratio: Union[float, int] = 1):\n",
        "    \n",
        "    n = tt_ind_solve_power(effect_size=effect_size,\n",
        "                           alpha=alpha,\n",
        "                           power=(1 - beta),\n",
        "                           ratio=ratio,\n",
        "                  )\n",
        "    return int(n * 2)\n",
        "\n",
        "calc_sample_size_continuous(effect_size=effect_size, alpha=.05, beta=.2)"
      ],
      "metadata": {
        "colab": {
          "base_uri": "https://localhost:8080/"
        },
        "id": "JhCnJVAXvqDy",
        "outputId": "c30dbd8f-ead5-4415-dc8b-abc49093ae21"
      },
      "execution_count": 10,
      "outputs": [
        {
          "output_type": "execute_result",
          "data": {
            "text/plain": [
              "122257"
            ]
          },
          "metadata": {},
          "execution_count": 10
        }
      ]
    },
    {
      "cell_type": "code",
      "source": [
        "day = round (calc_sample_size_continuous(effect_size=effect_size, alpha=.05, beta=.2)/20000, 0)\n",
        "day"
      ],
      "metadata": {
        "colab": {
          "base_uri": "https://localhost:8080/"
        },
        "id": "iIoHxRDov2Lc",
        "outputId": "bc8b4457-ce2d-4269-fce1-e50a8651f7ec"
      },
      "execution_count": 11,
      "outputs": [
        {
          "output_type": "execute_result",
          "data": {
            "text/plain": [
              "6.0"
            ]
          },
          "metadata": {},
          "execution_count": 11
        }
      ]
    },
    {
      "cell_type": "markdown",
      "source": [
        "### Задача 2\n",
        "Наша продуктовая команда в ecommerce магазине планирует запустить тест, направленный на ускорение загрузки сайта. Одна из основных метрик bounce rate в GA = 40%. Мы предполагаем, что при оптимизации сайта она изменится минимум на 20%.Средний трафик 4000 человек в день. Посчитайте сколько нам нужно дней держать эксперимент при alpha = 5% и beta = 20%."
      ],
      "metadata": {
        "id": "e84dFyWFv7w_"
      }
    },
    {
      "cell_type": "code",
      "source": [
        "conv_1, conv_2 = 40, 40*1.2\n",
        "nobs_1, nobs_2 = 100, 100\n",
        "prob_1, prob_2 = conv_1 / nobs_1, conv_2 / nobs_2\n",
        "\n",
        "def calc_propotion_effect_size(conv_1: int, nobs_1: int, conv_2: int, nobs_2: int):\n",
        "    prob_1, prob_2 = conv_1 / nobs_1, conv_2 / nobs_2\n",
        "    \n",
        "    es_formula = 2  * asin(np.sqrt(prob_1)) - 2 * asin(np.sqrt(prob_2))\n",
        "    es_import = proportion_effectsize(prob_1, prob_2)\n",
        "    \n",
        "    return es_formula, es_import\n",
        "\n",
        "calc_propotion_effect_size(conv_1=conv_1, nobs_1=nobs_1, conv_2=conv_2, nobs_2=nobs_2)"
      ],
      "metadata": {
        "colab": {
          "base_uri": "https://localhost:8080/"
        },
        "id": "N3v7qUmWv_Sk",
        "outputId": "50aa2ed6-5f5f-4bed-bc58-cde016af118c"
      },
      "execution_count": 12,
      "outputs": [
        {
          "output_type": "execute_result",
          "data": {
            "text/plain": [
              "(-0.1613472464363419, -0.1613472464363419)"
            ]
          },
          "metadata": {},
          "execution_count": 12
        }
      ]
    },
    {
      "cell_type": "code",
      "source": [
        "effect_size = calc_propotion_effect_size(conv_1=conv_1, nobs_1=nobs_1, conv_2=conv_2, nobs_2=nobs_2)[1]\n",
        "\n",
        "def calc_sample_size_proportion(effect_size: float,\n",
        "                                alpha: float = .05,\n",
        "                                beta: float = .2,\n",
        "                                ratio: Union[float, int] = 1):\n",
        "    \n",
        "    n = zt_ind_solve_power(effect_size=effect_size,\n",
        "                           alpha=alpha,\n",
        "                           power=(1 - beta),\n",
        "                           ratio=ratio,\n",
        "                  )\n",
        "    return int(n * 2)\n",
        "\n",
        "calc_sample_size_proportion(effect_size=effect_size, alpha=.05, beta=.2)"
      ],
      "metadata": {
        "colab": {
          "base_uri": "https://localhost:8080/"
        },
        "id": "vk85nmVgwDEZ",
        "outputId": "17c7491d-b41b-49d6-8bef-0f0426f15037"
      },
      "execution_count": 13,
      "outputs": [
        {
          "output_type": "execute_result",
          "data": {
            "text/plain": [
              "1205"
            ]
          },
          "metadata": {},
          "execution_count": 13
        }
      ]
    },
    {
      "cell_type": "code",
      "source": [
        "day = round (calc_sample_size_proportion(effect_size=effect_size, alpha=.05, beta=.2)/4000, 2)\n",
        "day"
      ],
      "metadata": {
        "colab": {
          "base_uri": "https://localhost:8080/"
        },
        "id": "1TF2PSQbwMgt",
        "outputId": "c4944820-5c47-4301-9033-a74da0c19ad0"
      },
      "execution_count": 14,
      "outputs": [
        {
          "output_type": "execute_result",
          "data": {
            "text/plain": [
              "0.3"
            ]
          },
          "metadata": {},
          "execution_count": 14
        }
      ]
    }
  ]
}